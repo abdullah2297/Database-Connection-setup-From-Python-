{
 "cells": [
  {
   "cell_type": "markdown",
   "metadata": {},
   "source": [
    "## Connect to Teradata\n",
    "- BY to Mohamed Zahaby And Abdullah Elsayed"
   ]
  },
  {
   "cell_type": "code",
   "execution_count": null,
   "metadata": {},
   "outputs": [],
   "source": [
    "# import Libraries\n",
    "import pandas as pd \n",
    "import teradatasql ## To Handle Connection\n",
    "from getpass import getpass ## To Hide your Password"
   ]
  },
  {
   "cell_type": "code",
   "execution_count": null,
   "metadata": {},
   "outputs": [],
   "source": [
    "def getConnection(password,user):\n",
    "    '''Connect to Database'''\n",
    "    try:\n",
    "        connect = teradatasql.connect(host='Write your DB Host', user=user, password=password)\n",
    "    except teradatasql.Error as e:\n",
    "        \n",
    "        return False, print(str(e).split('\\n', 1)[0])\n",
    "    return connect, \"Connected Successfully\""
   ]
  },
  {
   "cell_type": "code",
   "execution_count": null,
   "metadata": {},
   "outputs": [],
   "source": [
    "## Connect to your Database with Credentials\n",
    "userName = input(\"\\nEnter teradata username: \")\n",
    "conn = False\n",
    "while not conn:\n",
    "    pwd = getpass(\"write your password: \")\n",
    "    conn, msg = getConnection(pwd, userName)\n",
    "    print(msg)"
   ]
  },
  {
   "cell_type": "code",
   "execution_count": null,
   "metadata": {},
   "outputs": [],
   "source": [
    "## Write your queries in exetranl file .sql\n",
    "def getQuery(filename):\n",
    "    # Open and read the file as a single buffer\n",
    "    fd = open(filename, 'r')\n",
    "    sqlFile = fd.read()\n",
    "    fd.close()\n",
    "    return sqlFile"
   ]
  },
  {
   "cell_type": "code",
   "execution_count": null,
   "metadata": {},
   "outputs": [],
   "source": [
    "\n",
    "## Execute your queries and return your data\n",
    "def excuteQuery(conn, query, statusMsg = \"successful\"):\n",
    "    with conn.cursor() as cur:\n",
    "        try:\n",
    "            cur.execute (query)\n",
    "            data = cur.fetchall()\n",
    "        except teradatasql.Error as e:\n",
    "            errorMessage = str(e).split('\\n', 1)[0]\n",
    "            statusMsg = \"error message {}\\n\".format(errorMessage)\n",
    "    conn.commit()\n",
    "    return cur, data , statusMsg"
   ]
  },
  {
   "cell_type": "code",
   "execution_count": null,
   "metadata": {},
   "outputs": [],
   "source": [
    "## Also you can wrrite your query at string and execute it\n",
    "query = '''\n",
    "locking table DM_APP_SEM_DEV.Subscribers for access\n",
    "sel * from DM_APP_SEM_DEV.Subscribers where Subscriber_id in (2205248163, 2201922867, 2205746963, 2203939405);\n",
    "'''\n",
    "cur, data, statusMsg = excuteQuery(conn, query)\n",
    "# Put your data to DataFrame using Pandas\n",
    "df = pd.DataFrame(data, columns = [column[0] for column in cur.description])\n",
    "df.head(1)"
   ]
  },
  {
   "cell_type": "markdown",
   "metadata": {},
   "source": [
    "## Using Pyodbc "
   ]
  },
  {
   "cell_type": "code",
   "execution_count": null,
   "metadata": {},
   "outputs": [],
   "source": [
    "import pyodbc as dbc\n",
    "from getpass import getpass\n",
    "\n",
    "\n",
    "uid = input('Enter user Name: ')\n",
    "pwd = getpass('Enter your pass: ')\n",
    "\n",
    "link = 'DRIVER={DRIVERNAME};DBCNAME={hostname};UID={uid};PWD={pwd}'.format(DRIVERNAME='to know available drivers you can run \"dbc.drivers()\"', hostname='DB Host', uid=uid, pwd=pwd)\n",
    "\n",
    "\n",
    "query = '''\n",
    "select from * tableName\n",
    "'''\n",
    "\n",
    "with dbc.connect(link,autocommit=True) as connect:\n",
    "\n",
    "    cursor = connect.cursor()\n",
    "    data = cursor.execute(query)\n",
    "\n",
    "df = pd.DataFrame(data, columns = [column[0] for column in cur.description])\n",
    "df.head(1)"
   ]
  }
 ],
 "metadata": {
  "kernelspec": {
   "display_name": "Python 3.9.2 64-bit",
   "language": "python",
   "name": "python3"
  },
  "language_info": {
   "name": "python",
   "version": "3.9.2"
  },
  "orig_nbformat": 4,
  "vscode": {
   "interpreter": {
    "hash": "11938c6bc6919ae2720b4d5011047913343b08a43b18698fd82dedb0d4417594"
   }
  }
 },
 "nbformat": 4,
 "nbformat_minor": 2
}
